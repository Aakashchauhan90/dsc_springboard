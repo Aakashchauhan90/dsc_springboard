{
 "cells": [
  {
   "cell_type": "markdown",
   "metadata": {},
   "source": [
    "# XML example and exercise\n",
    "****\n",
    "+ study examples of accessing nodes in XML tree structure  \n",
    "+ work on exercise to be completed and submitted\n",
    "****\n",
    "+ reference: https://docs.python.org/2.7/library/xml.etree.elementtree.html\n",
    "+ data source: http://www.dbis.informatik.uni-goettingen.de/Mondial\n",
    "****"
   ]
  },
  {
   "cell_type": "code",
   "execution_count": 2,
   "metadata": {
    "collapsed": true
   },
   "outputs": [],
   "source": [
    "from xml.etree import ElementTree as ET"
   ]
  },
  {
   "cell_type": "markdown",
   "metadata": {},
   "source": [
    "## XML example\n",
    "\n",
    "+ for details about tree traversal and iterators, see https://docs.python.org/2.7/library/xml.etree.elementtree.html"
   ]
  },
  {
   "cell_type": "code",
   "execution_count": 3,
   "metadata": {
    "collapsed": true
   },
   "outputs": [],
   "source": [
    "document_tree = ET.parse( './data/mondial_database_less.xml' )"
   ]
  },
  {
   "cell_type": "code",
   "execution_count": 4,
   "metadata": {},
   "outputs": [
    {
     "name": "stdout",
     "output_type": "stream",
     "text": [
      "Albania\n",
      "Greece\n",
      "Macedonia\n",
      "Serbia\n",
      "Montenegro\n",
      "Kosovo\n",
      "Andorra\n"
     ]
    }
   ],
   "source": [
    "# print names of all countries\n",
    "for child in document_tree.getroot():\n",
    "    print(child.find('name').text)"
   ]
  },
  {
   "cell_type": "code",
   "execution_count": 5,
   "metadata": {},
   "outputs": [
    {
     "name": "stdout",
     "output_type": "stream",
     "text": [
      "* Albania:\n",
      "Tirana, Shkodër, Durrës, Vlorë, Elbasan, Korçë\n",
      "* Greece:\n",
      "Komotini, Kavala, Athina, Peiraias, Peristeri, Acharnes, Patra, Kozani, Kerkyra, Ioannina, Thessaloniki, Iraklio, Chania, Ermoupoli, Rhodes, Tripoli, Lamia, Chalkida, Larissa, Volos, Mytilini, Karyes\n",
      "* Macedonia:\n",
      "Skopje, Kumanovo\n",
      "* Serbia:\n",
      "Beograd, Novi Sad, Niš\n",
      "* Montenegro:\n",
      "Podgorica\n",
      "* Kosovo:\n",
      "Prishtine\n",
      "* Andorra:\n",
      "Andorra la Vella\n"
     ]
    }
   ],
   "source": [
    "# print names of all countries and their cities\n",
    "for element in document_tree.iterfind('country'):\n",
    "    print('* ' + element.find('name').text + ':'),\n",
    "    capitals_string = ''\n",
    "    for subelement in element.getiterator('city'):\n",
    "        capitals_string += subelement.find('name').text + ', '\n",
    "    print(capitals_string[:-2])"
   ]
  },
  {
   "cell_type": "code",
   "execution_count": 6,
   "metadata": {},
   "outputs": [
    {
     "name": "stdout",
     "output_type": "stream",
     "text": [
      "<Element 'city' at 0x10d87f458>\n",
      "None\n",
      "<Element 'city' at 0x10d8bec28>\n",
      "<Element 'city' at 0x10d8c2ea8>\n",
      "<Element 'city' at 0x10d8d2278>\n",
      "<Element 'city' at 0x10d8d2c28>\n",
      "<Element 'city' at 0x10d8d8a98>\n"
     ]
    }
   ],
   "source": [
    "for child in document_tree.getroot():\n",
    "    c = child.find('city')\n",
    "    print(c)"
   ]
  },
  {
   "cell_type": "markdown",
   "metadata": {},
   "source": [
    "****\n",
    "## XML exercise\n",
    "\n",
    "Using data in 'data/mondial_database.xml', the examples above, and refering to https://docs.python.org/2.7/library/xml.etree.elementtree.html, find\n",
    "\n",
    "1. 10 countries with the lowest infant mortality rates\n",
    "2. 10 cities with the largest population\n",
    "3. 10 ethnic groups with the largest overall populations (sum of best/latest estimates over all countries)\n",
    "4. name and country of a) longest river, b) largest lake and c) airport at highest elevation"
   ]
  },
  {
   "cell_type": "markdown",
   "metadata": {},
   "source": [
    "## 10 Countries with Lowest Infant Mortality Rates\n",
    "\n",
    "We need to find the 10 countries with the lowest infant mortality rates.\n",
    "\n",
    "The first step is to load the XML data and parse it using the xml.etree library (Pandas does not provide support for XML parsing). We then proceed to examine the XML file to discover its Document Object Model (or DOM). We find that 'country' is the immediate child of the root and 'infant_mortality' is the immediate child of 'country'.\n",
    "\n",
    "We, therefore, traverse into the country and then extract the infant mortality child from it.\n",
    "\n",
    "Finally, we sort our list of tuples based on mortality rates and output the 10 countries with the 10 lowest mortality rates. We discover that Monaco has the lowest mortality rate, followed by Japan, Norway and Bermuda."
   ]
  },
  {
   "cell_type": "code",
   "execution_count": 7,
   "metadata": {},
   "outputs": [
    {
     "name": "stdout",
     "output_type": "stream",
     "text": [
      "Top Ten Countries with Lowest Infant Mortality Rates\n",
      "\n",
      "1. Monaco\n",
      "2. Japan\n",
      "3. Norway\n",
      "4. Bermuda\n",
      "5. Singapore\n",
      "6. Sweden\n",
      "7. Czech Republic\n",
      "8. Hong Kong\n",
      "9. Macao\n",
      "10. Iceland\n"
     ]
    }
   ],
   "source": [
    "document = ET.parse( './data/mondial_database.xml' )\n",
    "\n",
    "infant_mortality = []\n",
    "for child in document.getroot():\n",
    "    country = child.find('name').text\n",
    "    mortality = child.find('infant_mortality')\n",
    "    if mortality is not None:\n",
    "        mortality = mortality.text\n",
    "        infant_mortality.append((country, float(mortality)))\n",
    "    \n",
    "\n",
    "print(\"Top Ten Countries with Lowest Infant Mortality Rates\\n\")\n",
    "\n",
    "top_ten = sorted(infant_mortality, key=lambda x: x[1])[:10]\n",
    "for count, tup in enumerate(top_ten):\n",
    "    print(str(count+1) + \". \" + tup[0])"
   ]
  },
  {
   "cell_type": "markdown",
   "metadata": {},
   "source": [
    "## 10 Cities with the Largest Population\n",
    "\n",
    "To find cities with the largest population, we look at all the cities in a particular country and record its population. The list of tuples is then sorted based on the population and the top ten cities with the largest number of people are outputted.\n",
    "\n",
    "We discover that Shenzhen is the most populated city in the world followed by Delhi, Guangzhou and Tianjin."
   ]
  },
  {
   "cell_type": "code",
   "execution_count": 8,
   "metadata": {
    "scrolled": true
   },
   "outputs": [
    {
     "name": "stdout",
     "output_type": "stream",
     "text": [
      "Top Ten Cities with the Largest Population\n",
      "\n",
      "1. Shenzhen\n",
      "2. Delhi\n",
      "3. Guangzhou\n",
      "4. Tianjin\n",
      "5. São Paulo\n",
      "6. Beijing\n",
      "7. Moskva\n",
      "8. Mumbai\n",
      "9. Istanbul\n",
      "10. Shanghai\n"
     ]
    }
   ],
   "source": [
    "populations = []\n",
    "for element in document.iterfind('country'):\n",
    "    for subelement in element.getiterator('city'):\n",
    "        city = subelement.find('name').text\n",
    "        #population = 0\n",
    "        population = subelement.findall('population')\n",
    "        if population is not None and len(population) > 0:\n",
    "            population = int(population[-1].text)\n",
    "        else:\n",
    "            population = 0\n",
    "        populations.append((city, population))\n",
    "\n",
    "\n",
    "print(\"Top Ten Cities with the Largest Population\\n\")\n",
    "top_ten = sorted(populations, key=lambda x: x[1])[-10:]\n",
    "for count, tup in enumerate(top_ten):\n",
    "    print(str(count+1) + \". \" + tup[0])"
   ]
  },
  {
   "cell_type": "markdown",
   "metadata": {},
   "source": [
    "## 10 Ethnic Groups with the Largest Overall Population\n",
    "\n",
    "To find the top 10 ethnic groups, we maintain a list of tuples of all ethnicities and their corresponding populations.\n",
    "\n",
    "We then iterate over every country and calculate the population of each group based on the total population and the percentage of each ethnic group. We then add this population to the corresponding field in our ethnic group list.\n",
    "\n",
    "Finally, we output the 10 largest ethnic groups by sorting them based on population. We discover that the Han Chinese are the largest ethnic group followed by Indo Aryans, Europeans and Africans."
   ]
  },
  {
   "cell_type": "code",
   "execution_count": 24,
   "metadata": {},
   "outputs": [
    {
     "name": "stdout",
     "output_type": "stream",
     "text": [
      "Top Ten Ethnic Groups with Largest Overall Population\n",
      "\n",
      "1. Han Chinese (1245058800)\n",
      "2. Indo-Aryan (871815583)\n",
      "3. European (494872221)\n",
      "4. African (318325121)\n",
      "5. Dravidian (302713744)\n",
      "6. Mestizo (157734355)\n",
      "7. Bengali (146776917)\n",
      "8. Russian (131856994)\n",
      "9. Japanese (126534212)\n",
      "10. Malay (121993550)\n"
     ]
    }
   ],
   "source": [
    "import operator\n",
    "\n",
    "ethnicity = {}\n",
    "\n",
    "for element in document.iterfind('country'):\n",
    "    country = element.find('name').text\n",
    "    population = element.findall('population')\n",
    "    if population is not None and len(population) > 0:\n",
    "        population = int(population[-1].text)\n",
    "    else:\n",
    "        population = 0\n",
    "    \n",
    "    ethnicgroups = element.findall('ethnicgroup')\n",
    "    for ethnicgroup in ethnicgroups:\n",
    "        group = ethnicgroup.text\n",
    "        percentage = float(ethnicgroup.get('percentage'))\n",
    "        group_pop = round((percentage * population) / 100)\n",
    "        if group in ethnicity:\n",
    "            ethnicity[group] = ethnicity[group] + group_pop\n",
    "        else:\n",
    "            ethnicity[group] = group_pop\n",
    "            \n",
    "print(\"Top Ten Ethnic Groups with Largest Overall Population\\n\")\n",
    "top_ten = dict(sorted(ethnicity.items(), key=operator.itemgetter(1), reverse=True)[:10])\n",
    "top_ten = sorted(list(top_ten.items()), key=lambda x: x[1], reverse=True)\n",
    "\n",
    "for count, tup in enumerate(top_ten):\n",
    "    print(str(count+1) + \". \" + tup[0] + \" (\" + str(tup[1]) + \")\")"
   ]
  },
  {
   "cell_type": "markdown",
   "metadata": {},
   "source": [
    "## Longest River, Largest Lake and Highest Airport\n",
    "\n",
    "The final part of the exercise asks us to find the name and the country of the longest river, the largest lake and the airport at the highest elevation.\n",
    "\n",
    "The process is largely the same for all three. We iterate through all the instances and extract the required value. We then put these values in a list of tuples and sort them based on the value (length, area, elevation). Finally, we output the result with its corresponding country.\n",
    "\n",
    "We discover that the highest airport is El Alto International, the longest river is Amazonas and the largest lake is Caspian Sea."
   ]
  },
  {
   "cell_type": "code",
   "execution_count": null,
   "metadata": {
    "collapsed": true
   },
   "outputs": [],
   "source": []
  },
  {
   "cell_type": "code",
   "execution_count": 34,
   "metadata": {},
   "outputs": [
    {
     "name": "stdout",
     "output_type": "stream",
     "text": [
      "+-----------------+----------------+--------------+--------+\n",
      "|       Type      |    Country     |     Name     | Value  |\n",
      "+-----------------+----------------+--------------+--------+\n",
      "| Highest Airport |      BOL       | El Alto Intl |  4063  |\n",
      "|  Longest River  |    CO BR PE    |   Amazonas   |  6448  |\n",
      "|   Largest Lake  | R AZ KAZ IR TM | Caspian Sea  | 386400 |\n",
      "+-----------------+----------------+--------------+--------+\n"
     ]
    }
   ],
   "source": [
    "from prettytable import PrettyTable\n",
    "\n",
    "airports = []\n",
    "rivers = []\n",
    "lakes = []\n",
    "\n",
    "for element in document.iterfind('airport'):\n",
    "    country = element.get('country')\n",
    "    name = element.find('name')\n",
    "    elevation = element.find('elevation')\n",
    "    if name is not None and elevation is not None and elevation.text is not None:\n",
    "        name = name.text\n",
    "        elevation = int(elevation.text)\n",
    "        airports.append((country, name, elevation))\n",
    "\n",
    "for element in document.iterfind('river'):\n",
    "    country = element.get('country')\n",
    "    name = element.find('name')\n",
    "    length = element.find('length')\n",
    "    if name is not None and length is not None and length.text is not None:\n",
    "        name = name.text\n",
    "        length = round(float(length.text))\n",
    "        rivers.append((country, name, length))\n",
    "\n",
    "for element in document.iterfind('lake'):\n",
    "    country = element.get('country')\n",
    "    name = element.find('name')\n",
    "    area = element.find('area')\n",
    "    if name is not None and area is not None and area.text is not None:\n",
    "        name = name.text\n",
    "        area = round(float(element.find('area').text))\n",
    "        lakes.append((country, name, area))\n",
    "\n",
    "highest_airport = sorted(airports, key=lambda x: x[2], reverse=True)[0]\n",
    "longest_river = sorted(rivers, key=lambda x: x[2], reverse=True)[0]\n",
    "largest_lake = sorted(lakes, key=lambda x: x[2], reverse=True)[0]\n",
    "\n",
    "table = PrettyTable(['Type','Country', 'Name', 'Value'])\n",
    "table.add_row(['Highest Airport'] + list(highest_airport))\n",
    "table.add_row(['Longest River'] + list(longest_river))\n",
    "table.add_row(['Largest Lake'] + list(largest_lake))\n",
    "\n",
    "print(table)"
   ]
  },
  {
   "cell_type": "code",
   "execution_count": null,
   "metadata": {
    "collapsed": true
   },
   "outputs": [],
   "source": []
  }
 ],
 "metadata": {
  "kernelspec": {
   "display_name": "Python 3",
   "language": "python",
   "name": "python3"
  },
  "language_info": {
   "codemirror_mode": {
    "name": "ipython",
    "version": 3
   },
   "file_extension": ".py",
   "mimetype": "text/x-python",
   "name": "python",
   "nbconvert_exporter": "python",
   "pygments_lexer": "ipython3",
   "version": "3.6.0"
  }
 },
 "nbformat": 4,
 "nbformat_minor": 1
}
