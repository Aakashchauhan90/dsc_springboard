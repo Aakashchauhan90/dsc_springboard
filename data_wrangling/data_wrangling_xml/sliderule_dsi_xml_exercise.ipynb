{
 "cells": [
  {
   "cell_type": "markdown",
   "metadata": {},
   "source": [
    "# XML example and exercise\n",
    "****\n",
    "+ study examples of accessing nodes in XML tree structure  \n",
    "+ work on exercise to be completed and submitted\n",
    "****\n",
    "+ reference: https://docs.python.org/2.7/library/xml.etree.elementtree.html\n",
    "+ data source: http://www.dbis.informatik.uni-goettingen.de/Mondial\n",
    "****"
   ]
  },
  {
   "cell_type": "code",
   "execution_count": 1,
   "metadata": {
    "collapsed": true
   },
   "outputs": [],
   "source": [
    "from xml.etree import ElementTree as ET"
   ]
  },
  {
   "cell_type": "markdown",
   "metadata": {},
   "source": [
    "## XML example\n",
    "\n",
    "+ for details about tree traversal and iterators, see https://docs.python.org/2.7/library/xml.etree.elementtree.html"
   ]
  },
  {
   "cell_type": "code",
   "execution_count": 24,
   "metadata": {
    "collapsed": true
   },
   "outputs": [],
   "source": [
    "document_tree = ET.parse( './data/mondial_database_less.xml' )"
   ]
  },
  {
   "cell_type": "code",
   "execution_count": 25,
   "metadata": {},
   "outputs": [
    {
     "name": "stdout",
     "output_type": "stream",
     "text": [
      "Albania\n",
      "Greece\n",
      "Macedonia\n",
      "Serbia\n",
      "Montenegro\n",
      "Kosovo\n",
      "Andorra\n"
     ]
    }
   ],
   "source": [
    "# print names of all countries\n",
    "for child in document_tree.getroot():\n",
    "    print(child.find('name').text)"
   ]
  },
  {
   "cell_type": "code",
   "execution_count": 26,
   "metadata": {},
   "outputs": [
    {
     "name": "stdout",
     "output_type": "stream",
     "text": [
      "* Albania:\n",
      "Tirana, Shkodër, Durrës, Vlorë, Elbasan, Korçë\n",
      "* Greece:\n",
      "Komotini, Kavala, Athina, Peiraias, Peristeri, Acharnes, Patra, Kozani, Kerkyra, Ioannina, Thessaloniki, Iraklio, Chania, Ermoupoli, Rhodes, Tripoli, Lamia, Chalkida, Larissa, Volos, Mytilini, Karyes\n",
      "* Macedonia:\n",
      "Skopje, Kumanovo\n",
      "* Serbia:\n",
      "Beograd, Novi Sad, Niš\n",
      "* Montenegro:\n",
      "Podgorica\n",
      "* Kosovo:\n",
      "Prishtine\n",
      "* Andorra:\n",
      "Andorra la Vella\n"
     ]
    }
   ],
   "source": [
    "# print names of all countries and their cities\n",
    "for element in document_tree.iterfind('country'):\n",
    "    print('* ' + element.find('name').text + ':'),\n",
    "    capitals_string = ''\n",
    "    for subelement in element.getiterator('city'):\n",
    "        capitals_string += subelement.find('name').text + ', '\n",
    "    print(capitals_string[:-2])"
   ]
  },
  {
   "cell_type": "code",
   "execution_count": 36,
   "metadata": {},
   "outputs": [
    {
     "name": "stdout",
     "output_type": "stream",
     "text": [
      "<Element 'city' at 0x10dd6c2c8>\n",
      "None\n",
      "<Element 'city' at 0x10dddf3b8>\n",
      "<Element 'city' at 0x10dde4638>\n",
      "<Element 'city' at 0x10ddc29a8>\n",
      "<Element 'city' at 0x10be353b8>\n",
      "<Element 'city' at 0x10be32228>\n"
     ]
    }
   ],
   "source": [
    "for child in document_tree.getroot():\n",
    "    c = child.find('city')\n",
    "    print(c)"
   ]
  },
  {
   "cell_type": "markdown",
   "metadata": {},
   "source": [
    "****\n",
    "## XML exercise\n",
    "\n",
    "Using data in 'data/mondial_database.xml', the examples above, and refering to https://docs.python.org/2.7/library/xml.etree.elementtree.html, find\n",
    "\n",
    "1. 10 countries with the lowest infant mortality rates\n",
    "2. 10 cities with the largest population\n",
    "3. 10 ethnic groups with the largest overall populations (sum of best/latest estimates over all countries)\n",
    "4. name and country of a) longest river, b) largest lake and c) airport at highest elevation"
   ]
  },
  {
   "cell_type": "code",
   "execution_count": 17,
   "metadata": {},
   "outputs": [
    {
     "name": "stdout",
     "output_type": "stream",
     "text": [
      "Monaco\n",
      "Japan\n",
      "Norway\n",
      "Bermuda\n",
      "Singapore\n",
      "Sweden\n",
      "Czech Republic\n",
      "Hong Kong\n",
      "Macao\n",
      "Iceland\n"
     ]
    }
   ],
   "source": [
    "document = ET.parse( './data/mondial_database.xml' )\n",
    "\n",
    "infant_mortality = []\n",
    "for child in document.getroot():\n",
    "    country = child.find('name').text\n",
    "    try:\n",
    "        mortality = child.find('infant_mortality').text\n",
    "        infant_mortality.append((country, float(mortality)))\n",
    "    except:\n",
    "        pass\n",
    "    \n",
    "\n",
    "#print(infant_mortality)\n",
    "top_ten = sorted(infant_mortality, key=lambda x: x[1])[:10]\n",
    "for tup in top_ten:\n",
    "    print(tup[0])"
   ]
  },
  {
   "cell_type": "code",
   "execution_count": 46,
   "metadata": {},
   "outputs": [
    {
     "name": "stdout",
     "output_type": "stream",
     "text": [
      "Shenzhen\n",
      "Delhi\n",
      "Guangzhou\n",
      "Tianjin\n",
      "São Paulo\n",
      "Beijing\n",
      "Moskva\n",
      "Mumbai\n",
      "Istanbul\n",
      "Shanghai\n"
     ]
    }
   ],
   "source": [
    "populations = []\n",
    "for element in document.iterfind('country'):\n",
    "    for subelement in element.getiterator('city'):\n",
    "        city = subelement.find('name').text\n",
    "        population = 0\n",
    "        try:\n",
    "            population = int(subelement.findall('population')[-1].text)\n",
    "        except:\n",
    "            pass\n",
    "        populations.append((city, population))\n",
    "\n",
    "top_ten = sorted(populations, key=lambda x: x[1])[-10:]\n",
    "for tup in top_ten:\n",
    "    print(tup[0])"
   ]
  },
  {
   "cell_type": "code",
   "execution_count": 62,
   "metadata": {},
   "outputs": [
    {
     "name": "stdout",
     "output_type": "stream",
     "text": [
      "[('Indo-Aryan', 871815583),\n",
      " ('Dravidian', 302713744),\n",
      " ('African', 222345317),\n",
      " ('Mestizo', 156241854),\n",
      " ('Bengali', 146776916),\n",
      " ('European', 121052971),\n",
      " ('Javanese', 113456006),\n",
      " ('Arab', 90906516),\n",
      " ('Eastern Hamitic', 82830376),\n",
      " ('Amerindian', 53060111)]\n"
     ]
    }
   ],
   "source": [
    "ethnicity = {}\n",
    "\n",
    "for element in document.iterfind('country'):\n",
    "    country = element.find('name').text\n",
    "    population = 0\n",
    "    try:\n",
    "        population = int(element.findall('population')[-1].text)\n",
    "        ethnicgroups = element.findall('ethnicgroup')\n",
    "        for ethnicgroup in ethnicgroups:\n",
    "            group = ethnicgroup.text\n",
    "            percentage = int(ethnicgroup.get('percentage'))\n",
    "            group_pop = int((percentage * population) / 100)\n",
    "            if group in ethnicity:\n",
    "                ethnicity[group] = ethnicity[group] + group_pop\n",
    "            else:\n",
    "                ethnicity[group] = group_pop\n",
    "    except:\n",
    "        pass\n",
    "\n",
    "from pprint import pprint\n",
    "import operator\n",
    "top_ten = dict(sorted(ethnicity.items(), key=operator.itemgetter(1), reverse=True)[:10])\n",
    "pprint(sorted(list(top_ten.items()), key=lambda x: x[1], reverse=True))\n",
    "    "
   ]
  },
  {
   "cell_type": "code",
   "execution_count": 69,
   "metadata": {},
   "outputs": [
    {
     "name": "stdout",
     "output_type": "stream",
     "text": [
      "('BOL', 'El Alto Intl', 4063) ('CO BR PE', 'Amazonas', 6448) ('R AZ KAZ IR TM', 'Caspian Sea', 386400)\n"
     ]
    }
   ],
   "source": [
    "airports = []\n",
    "rivers = []\n",
    "lakes = []\n",
    "\n",
    "for element in document.iterfind('airport'):\n",
    "    try:\n",
    "        country = element.get('country')\n",
    "        name = element.find('name').text\n",
    "        elevation = int(element.find('elevation').text)\n",
    "        airports.append((country, name, elevation))\n",
    "    except:\n",
    "        pass\n",
    "for element in document.iterfind('river'):\n",
    "    try:\n",
    "        country = element.get('country')\n",
    "        name = element.find('name').text\n",
    "        length = int(element.find('length').text)\n",
    "        rivers.append((country, name, length))\n",
    "    except:\n",
    "        pass\n",
    "\n",
    "for element in document.iterfind('lake'):\n",
    "    try:\n",
    "        country = element.get('country')\n",
    "        name = element.find('name').text\n",
    "        area = int(element.find('area').text)\n",
    "        lakes.append((country, name, area))\n",
    "    except:\n",
    "        pass\n",
    "\n",
    "highest_airport = sorted(airports, key=lambda x: x[2], reverse=True)[0]\n",
    "longest_river = sorted(rivers, key=lambda x: x[2], reverse=True)[0]\n",
    "largest_lake = sorted(lakes, key=lambda x: x[2], reverse=True)[0]\n",
    "\n",
    "print(highest_airport, longest_river, largest_lake)"
   ]
  },
  {
   "cell_type": "code",
   "execution_count": null,
   "metadata": {
    "collapsed": true
   },
   "outputs": [],
   "source": []
  }
 ],
 "metadata": {
  "kernelspec": {
   "display_name": "Python 3",
   "language": "python",
   "name": "python3"
  },
  "language_info": {
   "codemirror_mode": {
    "name": "ipython",
    "version": 3
   },
   "file_extension": ".py",
   "mimetype": "text/x-python",
   "name": "python",
   "nbconvert_exporter": "python",
   "pygments_lexer": "ipython3",
   "version": "3.6.0"
  }
 },
 "nbformat": 4,
 "nbformat_minor": 1
}
