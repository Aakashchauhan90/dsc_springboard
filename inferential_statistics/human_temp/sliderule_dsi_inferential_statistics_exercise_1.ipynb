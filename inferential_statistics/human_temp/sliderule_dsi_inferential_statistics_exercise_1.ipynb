{
 "cells": [
  {
   "cell_type": "markdown",
   "metadata": {},
   "source": [
    "# What is the True Normal Human Body Temperature? \n",
    "\n",
    "#### Background\n",
    "\n",
    "The mean normal body temperature was held to be 37$^{\\circ}$C or 98.6$^{\\circ}$F for more than 120 years since it was first conceptualized and reported by Carl Wunderlich in a famous 1868 book. But, is this value statistically correct?"
   ]
  },
  {
   "cell_type": "markdown",
   "metadata": {},
   "source": [
    "<div class=\"span5 alert alert-info\">\n",
    "<h3>Exercises</h3>\n",
    "\n",
    "<p>In this exercise, you will analyze a dataset of human body temperatures and employ the concepts of hypothesis testing, confidence intervals, and statistical significance.</p>\n",
    "\n",
    "<p>Answer the following questions <b>in this notebook below and submit to your Github account</b>.</p> \n",
    "\n",
    "<ol>\n",
    "<li>  Is the distribution of body temperatures normal? \n",
    "    <ul>\n",
    "    <li> Although this is not a requirement for CLT to hold (read CLT carefully), it gives us some peace of mind that the population may also be normally distributed if we assume that this sample is representative of the population.\n",
    "    </ul>\n",
    "<li>  Is the sample size large? Are the observations independent?\n",
    "    <ul>\n",
    "    <li> Remember that this is a condition for the CLT, and hence the statistical tests we are using, to apply.\n",
    "    </ul>\n",
    "<li>  Is the true population mean really 98.6 degrees F?\n",
    "    <ul>\n",
    "    <li> Would you use a one-sample or two-sample test? Why?\n",
    "    <li> In this situation, is it appropriate to use the $t$ or $z$ statistic? \n",
    "    <li> Now try using the other test. How is the result be different? Why?\n",
    "    </ul>\n",
    "<li>  At what temperature should we consider someone's temperature to be \"abnormal\"?\n",
    "    <ul>\n",
    "    <li> Start by computing the margin of error and confidence interval.\n",
    "    </ul>\n",
    "<li>  Is there a significant difference between males and females in normal temperature?\n",
    "    <ul>\n",
    "    <li> What test did you use and why?\n",
    "    <li> Write a story with your conclusion in the context of the original problem.\n",
    "    </ul>\n",
    "</ol>\n",
    "\n",
    "You can include written notes in notebook cells using Markdown: \n",
    "   - In the control panel at the top, choose Cell > Cell Type > Markdown\n",
    "   - Markdown syntax: http://nestacms.com/docs/creating-content/markdown-cheat-sheet\n",
    "\n",
    "#### Resources\n",
    "\n",
    "+ Information and data sources: http://www.amstat.org/publications/jse/datasets/normtemp.txt, http://www.amstat.org/publications/jse/jse_data_archive.htm\n",
    "+ Markdown syntax: http://nestacms.com/docs/creating-content/markdown-cheat-sheet\n",
    "\n",
    "****\n",
    "</div>"
   ]
  },
  {
   "cell_type": "code",
   "execution_count": 31,
   "metadata": {
    "collapsed": true
   },
   "outputs": [],
   "source": [
    "%matplotlib inline\n",
    "import pandas as pd\n",
    "import numpy as np\n",
    "from scipy import stats\n",
    "from scipy.stats import probplot\n",
    "from scipy.stats.mstats import zscore\n",
    "import seaborn as sns\n",
    "import matplotlib.pyplot as plt\n",
    "\n",
    "sns.set_style(\"darkgrid\")\n",
    "\n",
    "df = pd.read_csv('data/human_body_temperature.csv')"
   ]
  },
  {
   "cell_type": "markdown",
   "metadata": {},
   "source": [
    "## Is the Distribution Normal?\n",
    "\n",
    "Firstly, we want to check if the distribution of the sample is normal. While this is not a requirement for the Central Limit Theorem (or CLT) to hold, it gives us an idea of whether the sample is representative of the population.\n",
    "\n",
    "It is common knowledge that most data that occurs in nature (including human temperature) follow a normal distribution. Intuitively too, it is reasonable enough to assume that this is the case. We would expect the temperature to be hovering over a certain mean and the number of cases beyond a certain number of standard deviations to be extremely rare.\n",
    "\n",
    "The easiest way to do this is by using the normaltest method available in scipy.stats. \n",
    "\n",
    "The normaltest of a distribution returns a tuple: the first value is the chi-squared statistic and the second is the p-value. If the p-value is above a certain threshold (say, 0.05), we can assume that the distribution in hand is a normal distribution."
   ]
  },
  {
   "cell_type": "code",
   "execution_count": 32,
   "metadata": {},
   "outputs": [
    {
     "data": {
      "text/plain": [
       "NormaltestResult(statistic=2.7038014333192031, pvalue=0.2587479863488254)"
      ]
     },
     "execution_count": 32,
     "metadata": {},
     "output_type": "execute_result"
    }
   ],
   "source": [
    "# Your work here.\n",
    "temperatures = df['temperature']\n",
    "stats.normaltest(temperatures)"
   ]
  },
  {
   "cell_type": "markdown",
   "metadata": {},
   "source": [
    "The p-value obtained is approximately 0.258 which is much greater than 0.05. Therefore, **the temperatures is a normal distribution.**\n",
    "\n",
    "To further our claims, we will plot the data in a histogram and construct a quantile plot. The results are shown below."
   ]
  },
  {
   "cell_type": "code",
   "execution_count": 33,
   "metadata": {},
   "outputs": [
    {
     "data": {
      "text/plain": [
       "<matplotlib.axes._subplots.AxesSubplot at 0x111bd8518>"
      ]
     },
     "execution_count": 33,
     "metadata": {},
     "output_type": "execute_result"
    },
    {
     "data": {
      "image/png": "[encoded data removed]",
      "text/plain": [
       "<matplotlib.figure.Figure at 0x111cdc828>"
      ]
     },
     "metadata": {},
     "output_type": "display_data"
    }
   ],
   "source": [
    "sns.distplot(temperatures)"
   ]
  },
  {
   "cell_type": "code",
   "execution_count": 39,
   "metadata": {},
   "outputs": [
    {
     "data": {
      "text/plain": [
       "<matplotlib.text.Text at 0x1124a50f0>"
      ]
     },
     "execution_count": 39,
     "metadata": {},
     "output_type": "execute_result"
    },
    {
     "data": {
      "image/png": "[encoded data removed]",
      "text/plain": [
       "<matplotlib.figure.Figure at 0x112023c18>"
      ]
     },
     "metadata": {},
     "output_type": "display_data"
    }
   ],
   "source": [
    "zscores = zscore(temperatures)\n",
    "plt.plot(temperatures, zscores)\n",
    "plt.xlabel(\"Human Temperatures\")\n",
    "plt.ylabel(\"Z-Score\")"
   ]
  },
  {
   "cell_type": "markdown",
   "metadata": {},
   "source": [
    "As can be seen from the histogram and the normality quantile plot above, the distribution is indeed normal in nature. The seaborn histogram plot shows us that the distribution is normal as the frequency of values decrease exponentially as we move away from the mean.\n",
    "\n",
    "Also, the quantile plot of Z-score versus the temperature is a straight line which strenghtens our claim. The mathematical and the graphical tests together make a very compelling case of the given sampled distribution being normal.\n",
    "\n",
    "### Conclusions\n",
    "* The sampled distribution is normal\n",
    "* There is evidence indicating that the sample distrbution is a good representative of the population"
   ]
  },
  {
   "cell_type": "markdown",
   "metadata": {},
   "source": [
    "## Sample Size and Independence of Observations"
   ]
  },
  {
   "cell_type": "code",
   "execution_count": 36,
   "metadata": {},
   "outputs": [
    {
     "data": {
      "text/plain": [
       "130"
      ]
     },
     "execution_count": 36,
     "metadata": {},
     "output_type": "execute_result"
    }
   ],
   "source": [
    "len(df)"
   ]
  },
  {
   "cell_type": "markdown",
   "metadata": {},
   "source": [
    "As we can see above, the number of rows in the dataframe is 130.\n",
    "According to the Central Limit Theorem, we require at least 30 samples to satisfy the CLT conditions.\n",
    "\n",
    "Since our sample size is much larger than 30, we can safely say that the sample size is large enough.\n",
    "\n",
    "The observations are that of temperature and heart rate of a particular person. \n",
    "It can be safely assumed that the measurements of temperature and heartbeat for one person is not affected by the measurements of another person.\n",
    "Furhtermore, we have already discovered that the sampled distrbution is normal and this led us to conclude that the distribution is a good representation of the population.\n",
    "\n",
    "### Conclusions\n",
    "* The sample size is large enough. We can apply z-statistics for hypothesis testing.\n",
    "* The samples are statistically independent"
   ]
  },
  {
   "cell_type": "markdown",
   "metadata": {},
   "source": [
    "## Tests About A Population Mean\n",
    "\n",
    "We do not have data about the true population mean as it is not possible to sample the entire population.\n",
    "\n",
    "However, we can perform a hypothesis test and calculate the appropriate p-value for the test. If it is below a threshold (say, p= 0.05), we can reject the hypothesis and if it is greater, we can accept it.\n",
    "\n",
    "For the purpose of this test, we define:\n",
    "\n",
    "* **Null Hypothesis:** The true population mean is 98.6 degrees F.\n",
    "* **Alternate Hypothesis:** The true population mean is not 98.6 degrees F."
   ]
  },
  {
   "cell_type": "markdown",
   "metadata": {},
   "source": [
    "Assuming Null Hypothesis (H0) is true,\n",
    "\n",
    "Since we have assumed the null hypothesis as true, it follows that the sample distribution mean is the same as the true population mean."
   ]
  },
  {
   "cell_type": "code",
   "execution_count": 40,
   "metadata": {},
   "outputs": [
    {
     "data": {
      "text/plain": [
       "(98.249230769230749, 0.73318315803894563, 0.064304416837891024)"
      ]
     },
     "execution_count": 40,
     "metadata": {},
     "output_type": "execute_result"
    }
   ],
   "source": [
    "true_mean = 98.6\n",
    "sample_mean = df['temperature'].mean()\n",
    "sample_std = df['temperature'].std()\n",
    "sigma_x = sample_std/np.sqrt(len(df))\n",
    "\n",
    "sample_mean, sample_std, sigma_x"
   ]
  },
  {
   "cell_type": "markdown",
   "metadata": {},
   "source": [
    "We have now obtained the values of the sample mean, the sample standard deviation and the sigma_x value.\n",
    "\n",
    "The next step is to check how many standard deviations away is 98.6 (true mean) from 98.25 (sample mean)."
   ]
  },
  {
   "cell_type": "code",
   "execution_count": 41,
   "metadata": {},
   "outputs": [
    {
     "data": {
      "text/plain": [
       "5.4548232923645195"
      ]
     },
     "execution_count": 41,
     "metadata": {},
     "output_type": "execute_result"
    }
   ],
   "source": [
    "z = (98.6 - sample_mean) / sigma_x\n",
    "z"
   ]
  },
  {
   "cell_type": "code",
   "execution_count": 42,
   "metadata": {},
   "outputs": [
    {
     "data": {
      "text/plain": [
       "4.9021570136531523e-08"
      ]
     },
     "execution_count": 42,
     "metadata": {},
     "output_type": "execute_result"
    }
   ],
   "source": [
    "p = (1-stats.norm.cdf(z))*2\n",
    "p"
   ]
  },
  {
   "cell_type": "markdown",
   "metadata": {},
   "source": [
    "The p-value obtained is extremely small. If the null hypothesis was indeed true, the p-value would have been much greater. We can thus safely disregard the null hypothesis.\n",
    "\n",
    "The true population mean is NOT 98.6F.\n",
    "\n",
    "We used the one-sample test for this problem. This is because we were comparing the sample mean to a known value (98.6) and trying to find out if the true mean temperature of humans is actually 98.6F.\n",
    "\n",
    "In this situation, it is more appropriate to use z-statistic. This is because the sample size is greater than 30, thus satisfying the conditions for applying Central Limit Theorem.\n",
    "\n",
    "### Conclusions\n",
    "\n",
    "* The p-value is extremely small. Therefore, we can **reject the null hypothesis**.\n",
    "* The sample size is greater than 30. Hence, using the **z-statistic** is more appropriate.\n",
    "* We are comparing the sample mean to known value of population mean. Hence, the **one sample test** is more appropriate.\n",
    "* We are interested in knowing if the p-value on both sides of the tail. Therefore, we use the **two-tailed test**."
   ]
  },
  {
   "cell_type": "markdown",
   "metadata": {
    "collapsed": true
   },
   "source": [
    "## Applying T-Statistic\n",
    "\n",
    "In the previous section, we noted that the Z-Statistic is the more appropriate test to use in lieu of the sample size. In this section, we will apply the t-statistic to see if our results still hold and compare the p-values obtained in both the cases."
   ]
  },
  {
   "cell_type": "code",
   "execution_count": 43,
   "metadata": {},
   "outputs": [
    {
     "data": {
      "text/plain": [
       "5.4548232923645195"
      ]
     },
     "execution_count": 43,
     "metadata": {},
     "output_type": "execute_result"
    }
   ],
   "source": [
    "t = z\n",
    "t"
   ]
  },
  {
   "cell_type": "code",
   "execution_count": 44,
   "metadata": {},
   "outputs": [
    {
     "data": {
      "text/plain": [
       "2.4106320428707306e-07"
      ]
     },
     "execution_count": 44,
     "metadata": {},
     "output_type": "execute_result"
    }
   ],
   "source": [
    "(1 - stats.t.cdf(t, len(df)-1))*2"
   ]
  },
  {
   "cell_type": "markdown",
   "metadata": {},
   "source": [
    "The p-value obtained by applying the t-statistic is also extremely small. Hence, the null hypothesis is rejected even in this case and all the conclusions arrived at using z-statistics hold.\n",
    "\n",
    "The result is the same because for sample sizes greater than 30, the z-statistic and the t-statistic yield approximately the same results.\n",
    "\n",
    "### Conclusions\n",
    "\n",
    "* The p-value for the t-statistic is ten times larger than the p-value of the z-statisitc. \n",
    "* However, it is still extremely small. Therefore, we can safely reject the null hypothesis.\n",
    "* All the conclusions arrived at with z-statistics also hold with the t-statistics."
   ]
  },
  {
   "cell_type": "markdown",
   "metadata": {},
   "source": [
    "## Abnormality of Temperatures"
   ]
  },
  {
   "cell_type": "markdown",
   "metadata": {},
   "source": [
    "Let us first calculate the true mean of human temperature with a confidence interval of 95%. Since, we've already calculated the sample mean, sample standard deviation and sigma_x, this step should be fairly straightforward."
   ]
  },
  {
   "cell_type": "code",
   "execution_count": 46,
   "metadata": {},
   "outputs": [
    {
     "data": {
      "text/plain": [
       "(98.123196428181629, 98.375265110279869)"
      ]
     },
     "execution_count": 46,
     "metadata": {},
     "output_type": "execute_result"
    }
   ],
   "source": [
    "z0 = stats.norm.ppf(0.975)\n",
    "\n",
    "upper_temp = sample_mean + z0*sigma_x\n",
    "lower_temp = sample_mean - z0*sigma_x\n",
    "\n",
    "lower_temp, upper_temp"
   ]
  },
  {
   "cell_type": "markdown",
   "metadata": {},
   "source": [
    "From the above results, we are 95% confident that the true mean is somewhere between 98.123F and 98.375F. The margin of error is 10%. Therefore, we can consider any temperature outside this range to be abnormal.\n",
    "\n",
    "### Conclusion\n",
    "A body temperature below 98.123 and above 98.375 should be considered abnormal."
   ]
  },
  {
   "cell_type": "markdown",
   "metadata": {},
   "source": [
    "## Comparing Male and Female Body Temperatures\n",
    "\n",
    "For the next part, we are going to find out if there is a statistically significant difference in temperature of men and women."
   ]
  },
  {
   "cell_type": "code",
   "execution_count": 47,
   "metadata": {},
   "outputs": [
    {
     "data": {
      "text/plain": [
       "(65, 65)"
      ]
     },
     "execution_count": 47,
     "metadata": {},
     "output_type": "execute_result"
    }
   ],
   "source": [
    "df_male = df[df['gender'] == 'M']\n",
    "df_female = df[df['gender'] == 'F']\n",
    "\n",
    "len(df_male), len(df_female)"
   ]
  },
  {
   "cell_type": "markdown",
   "metadata": {},
   "source": [
    "We have partitioned our dataframe into two separate dataframes based on gender. Each child dataframe consists of 65 samples each. Since the sample sizes for both dataframes are greater than 30, this implies Central Limit Theorem holds and we can apply z-statistics."
   ]
  },
  {
   "cell_type": "code",
   "execution_count": 48,
   "metadata": {
    "collapsed": true
   },
   "outputs": [],
   "source": [
    "male_temps = df_male['temperature']\n",
    "female_temps = df_female['temperature']"
   ]
  },
  {
   "cell_type": "code",
   "execution_count": 49,
   "metadata": {},
   "outputs": [
    {
     "data": {
      "text/plain": [
       "(98.104615384615371, 0.69875576232659098)"
      ]
     },
     "execution_count": 49,
     "metadata": {},
     "output_type": "execute_result"
    }
   ],
   "source": [
    "male_mean = male_temps.mean()\n",
    "male_std = male_temps.std()\n",
    "\n",
    "male_mean, male_std"
   ]
  },
  {
   "cell_type": "code",
   "execution_count": 50,
   "metadata": {},
   "outputs": [
    {
     "data": {
      "text/plain": [
       "(98.393846153846141, 0.74348775273136636)"
      ]
     },
     "execution_count": 50,
     "metadata": {},
     "output_type": "execute_result"
    }
   ],
   "source": [
    "female_mean = female_temps.mean()\n",
    "female_std = female_temps.std()\n",
    "\n",
    "female_mean, female_std"
   ]
  },
  {
   "cell_type": "markdown",
   "metadata": {},
   "source": [
    "From the above calculations, it can be seen that the mean and the standard deviations of male and female temperatures differ slightly. The next step is to determine if this difference is a statistically significant one."
   ]
  },
  {
   "cell_type": "markdown",
   "metadata": {},
   "source": [
    "For hypothesis testing, the following are defined:\n",
    "\n",
    "* **Null Hypothesis:** The true mean temperature for men and women are the same.\n",
    "* **Alternate Hypothesis:** The true mean temperature for men and women are not the same.\n",
    "\n",
    "The threshold value of $\\alpha$ is assumed to be 0.05.\n",
    "Assuming Null Hypothesis is true."
   ]
  },
  {
   "cell_type": "code",
   "execution_count": 51,
   "metadata": {},
   "outputs": [
    {
     "data": {
      "text/plain": [
       "(0.28923076923076962, 0.12655395041982645)"
      ]
     },
     "execution_count": 51,
     "metadata": {},
     "output_type": "execute_result"
    }
   ],
   "source": [
    "h0_mean = 0\n",
    "mean_diff = female_mean - male_mean\n",
    "sigma_diff = np.sqrt((female_std**2)/len(female_temps)  + (male_std**2)/len(male_temps))\n",
    "mean_diff, sigma_diff"
   ]
  },
  {
   "cell_type": "code",
   "execution_count": 52,
   "metadata": {},
   "outputs": [
    {
     "data": {
      "text/plain": [
       "2.2854345381656103"
      ]
     },
     "execution_count": 52,
     "metadata": {},
     "output_type": "execute_result"
    }
   ],
   "source": [
    "z = (mean_diff - h0_mean) / sigma_diff\n",
    "z"
   ]
  },
  {
   "cell_type": "code",
   "execution_count": 53,
   "metadata": {},
   "outputs": [
    {
     "data": {
      "text/plain": [
       "0.022287360760657515"
      ]
     },
     "execution_count": 53,
     "metadata": {},
     "output_type": "execute_result"
    }
   ],
   "source": [
    "p = (1-stats.norm.cdf(z))*2\n",
    "p"
   ]
  },
  {
   "cell_type": "markdown",
   "metadata": {},
   "source": [
    "The p-value obtained in this case is 0.02 which is less than the accepted threshold of 0.05.\n",
    "\n",
    "Therefore, we have to reject the null hypothesis and accept the alternate hypothesis. In other words, **there is a significant difference in male and female body temperatures.**\n",
    "\n",
    "For this test, two-sample test was used as we were trying to compare the means of two different groups. Also, the z-statistic was used as the sample sizes for both groups were greater than 30."
   ]
  },
  {
   "cell_type": "markdown",
   "metadata": {},
   "source": [
    "## Conclusions\n",
    "\n",
    "1. The distribution of human temperatures is normal and can be modeled as a Gaussian distribution.\n",
    "2. The human temperatures are statistically independent.\n",
    "3. We are reasonably confident that the mean temperature of the human body is not 98.6F. This is done by hypothesis testing and calculating the corresponding z-statistic.\n",
    "4. The z-statistic and t-statsitic yield similar results for sample sizes greater than 30.\n",
    "5. Male and female body temperatures differ significantly to be of statistical importance."
   ]
  },
  {
   "cell_type": "code",
   "execution_count": null,
   "metadata": {
    "collapsed": true
   },
   "outputs": [],
   "source": []
  }
 ],
 "metadata": {
  "kernelspec": {
   "display_name": "Python 3",
   "language": "python",
   "name": "python3"
  },
  "language_info": {
   "codemirror_mode": {
    "name": "ipython",
    "version": 3
   },
   "file_extension": ".py",
   "mimetype": "text/x-python",
   "name": "python",
   "nbconvert_exporter": "python",
   "pygments_lexer": "ipython3",
   "version": "3.6.0"
  }
 },
 "nbformat": 4,
 "nbformat_minor": 1
}
