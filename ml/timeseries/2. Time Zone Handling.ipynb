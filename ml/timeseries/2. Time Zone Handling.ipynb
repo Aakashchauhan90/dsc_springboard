{
 "cells": [
  {
   "cell_type": "code",
   "execution_count": 1,
   "metadata": {
    "collapsed": true
   },
   "outputs": [],
   "source": [
    "import numpy as np\n",
    "import pandas as pd"
   ]
  },
  {
   "cell_type": "code",
   "execution_count": 4,
   "metadata": {
    "collapsed": true
   },
   "outputs": [],
   "source": [
    "rng = pd.date_range('3/6/2012 00:00', periods = 15, freq = 'D')\n",
    "rng.tz"
   ]
  },
  {
   "cell_type": "code",
   "execution_count": 5,
   "metadata": {},
   "outputs": [
    {
     "data": {
      "text/plain": [
       "<DstTzInfo 'Europe/London' LMT-1 day, 23:59:00 STD>"
      ]
     },
     "execution_count": 5,
     "metadata": {},
     "output_type": "execute_result"
    }
   ],
   "source": [
    "rng_tz = pd.date_range('3/6/2012 00:00', periods = 15, freq = 'D', tz = 'Europe/London')\n",
    "rng_tz.tz"
   ]
  },
  {
   "cell_type": "code",
   "execution_count": 6,
   "metadata": {},
   "outputs": [
    {
     "name": "stdout",
     "output_type": "stream",
     "text": [
      "439\n",
      "593\n",
      "{'Etc/GMT-2', 'Africa/Timbuktu', 'Etc/GMT-13', 'Europe/Nicosia', 'Etc/GMT-6', 'Etc/GMT0', 'Asia/Istanbul', 'MST7MDT', 'Iceland', 'GMT+0', 'Africa/Asmera', 'PST8PDT', 'Brazil/West', 'Hongkong', 'CET', 'Etc/GMT+1', 'Asia/Harbin', 'US/Indiana-Starke', 'America/Buenos_Aires', 'Asia/Tel_Aviv', 'Etc/GMT-3', 'America/Cordoba', 'Asia/Rangoon', 'Chile/EasterIsland', 'GB-Eire', 'Asia/Thimbu', 'America/Shiprock', 'Brazil/Acre', 'Etc/GMT-4', 'GMT0', 'Canada/Saskatchewan', 'UCT', 'Etc/GMT-5', 'Israel', 'Asia/Ashkhabad', 'America/Mendoza', 'Etc/GMT-14', 'Europe/Belfast', 'Etc/GMT-8', 'Pacific/Johnston', 'W-SU', 'Etc/GMT', 'Egypt', 'Mexico/BajaNorte', 'Brazil/DeNoronha', 'Etc/GMT+4', 'Asia/Dacca', 'Poland', 'Brazil/East', 'America/Knox_IN', 'PRC', 'Europe/Tiraspol', 'America/Argentina/ComodRivadavia', 'Australia/Yancowinna', 'America/Montreal', 'Greenwich', 'EST5EDT', 'Etc/UTC', 'America/Santa_Isabel', 'Etc/UCT', 'Pacific/Samoa', 'Navajo', 'US/Pacific-New', 'Etc/GMT+5', 'EST', 'MET', 'US/Michigan', 'US/Aleutian', 'Asia/Chongqing', 'Etc/GMT+2', 'Etc/GMT-1', 'Universal', 'Australia/Queensland', 'Australia/Canberra', 'ROC', 'Etc/GMT+0', 'Asia/Chungking', 'Etc/GMT-11', 'Canada/East-Saskatchewan', 'HST', 'Etc/GMT+11', 'MST', 'Eire', 'America/Indianapolis', 'Australia/West', 'Etc/GMT+3', 'America/Atka', 'Pacific/Yap', 'Etc/GMT-9', 'Australia/North', 'Zulu', 'Etc/GMT-0', 'CST6CDT', 'Asia/Ujung_Pandang', 'Asia/Ulan_Bator', 'Etc/Zulu', 'Etc/GMT+10', 'Chile/Continental', 'Asia/Saigon', 'Iran', 'GMT-0', 'Canada/Yukon', 'America/Catamarca', 'Singapore', 'Asia/Kashgar', 'Atlantic/Jan_Mayen', 'Etc/GMT+7', 'Australia/Tasmania', 'America/Virgin', 'Asia/Katmandu', 'America/Rosario', 'Etc/GMT+9', 'Australia/ACT', 'Etc/GMT+12', 'EET', 'Mexico/BajaSur', 'US/East-Indiana', 'Jamaica', 'Atlantic/Faeroe', 'Australia/NSW', 'Japan', 'America/Fort_Wayne', 'GB', 'America/Louisville', 'America/Jujuy', 'WET', 'Libya', 'Etc/Greenwich', 'America/Coral_Harbour', 'NZ', 'ROK', 'US/Samoa', 'Etc/GMT-10', 'NZ-CHAT', 'Etc/GMT-7', 'Pacific/Truk', 'Asia/Macao', 'Etc/GMT+8', 'Etc/GMT+6', 'America/Porto_Acre', 'Etc/GMT-12', 'Kwajalein', 'Cuba', 'Antarctica/South_Pole', 'Australia/LHI', 'Etc/Universal', 'Asia/Calcutta', 'Australia/South', 'America/Ensenada', 'Mexico/General', 'Australia/Victoria', 'Pacific/Ponape', 'Portugal', 'Turkey'}\n"
     ]
    }
   ],
   "source": [
    "from pytz import common_timezones, all_timezones\n",
    "print(len(common_timezones))\n",
    "print(len(all_timezones))\n",
    "print(set(all_timezones) - set(common_timezones))"
   ]
  },
  {
   "cell_type": "code",
   "execution_count": 7,
   "metadata": {},
   "outputs": [
    {
     "data": {
      "text/plain": [
       "Timestamp('2016-07-10 08:50:00')"
      ]
     },
     "execution_count": 7,
     "metadata": {},
     "output_type": "execute_result"
    }
   ],
   "source": [
    "# You can also localize a naive timestamp\n",
    "t_naive = pd.Timestamp('2016-07-10 08:50')\n",
    "t_naive"
   ]
  },
  {
   "cell_type": "code",
   "execution_count": 8,
   "metadata": {},
   "outputs": [
    {
     "data": {
      "text/plain": [
       "Timestamp('2016-07-10 08:50:00-0500', tz='US/Central')"
      ]
     },
     "execution_count": 8,
     "metadata": {},
     "output_type": "execute_result"
    }
   ],
   "source": [
    "t = t_naive.tz_localize(tz = 'US/Central')\n",
    "t"
   ]
  },
  {
   "cell_type": "code",
   "execution_count": 9,
   "metadata": {},
   "outputs": [
    {
     "data": {
      "text/plain": [
       "Timestamp('2016-07-10 22:50:00+0900', tz='Asia/Tokyo')"
      ]
     },
     "execution_count": 9,
     "metadata": {},
     "output_type": "execute_result"
    }
   ],
   "source": [
    "t.tz_convert('Asia/Tokyo')"
   ]
  },
  {
   "cell_type": "code",
   "execution_count": 10,
   "metadata": {},
   "outputs": [
    {
     "data": {
      "text/plain": [
       "2016-03-10 00:00:00-06:00    0\n",
       "2016-03-11 00:00:00-06:00    1\n",
       "2016-03-12 00:00:00-06:00    2\n",
       "2016-03-13 00:00:00-06:00    3\n",
       "2016-03-14 00:00:00-05:00    4\n",
       "2016-03-15 00:00:00-05:00    5\n",
       "2016-03-16 00:00:00-05:00    6\n",
       "2016-03-17 00:00:00-05:00    7\n",
       "2016-03-18 00:00:00-05:00    8\n",
       "2016-03-19 00:00:00-05:00    9\n",
       "Freq: D, dtype: int64"
      ]
     },
     "execution_count": 10,
     "metadata": {},
     "output_type": "execute_result"
    }
   ],
   "source": [
    "# how to handle daylight savings?\n",
    "rng = pd.date_range('2016-03-10', periods=10, tz='US/Central')\n",
    "ts = pd.Series(range(10), index=rng)\n",
    "ts"
   ]
  },
  {
   "cell_type": "code",
   "execution_count": 11,
   "metadata": {},
   "outputs": [
    {
     "data": {
      "text/plain": [
       "2016-03-10 00:00:00+00:00    0\n",
       "2016-03-11 00:00:00+00:00    1\n",
       "2016-03-12 00:00:00+00:00    2\n",
       "2016-03-13 00:00:00+00:00    3\n",
       "2016-03-14 00:00:00+00:00    4\n",
       "2016-03-15 00:00:00+00:00    5\n",
       "2016-03-16 00:00:00+00:00    6\n",
       "2016-03-17 00:00:00+00:00    7\n",
       "2016-03-18 00:00:00+00:00    8\n",
       "2016-03-19 00:00:00+00:00    9\n",
       "Freq: D, dtype: int64"
      ]
     },
     "execution_count": 11,
     "metadata": {},
     "output_type": "execute_result"
    }
   ],
   "source": [
    "rng = pd.date_range('2016-03-10', periods=10, tz='utc')\n",
    "ts = pd.Series(range(10), index=rng)\n",
    "ts"
   ]
  },
  {
   "cell_type": "code",
   "execution_count": 12,
   "metadata": {},
   "outputs": [
    {
     "data": {
      "text/plain": [
       "2016-03-09 18:00:00-06:00    0\n",
       "2016-03-10 18:00:00-06:00    1\n",
       "2016-03-11 18:00:00-06:00    2\n",
       "2016-03-12 18:00:00-06:00    3\n",
       "2016-03-13 19:00:00-05:00    4\n",
       "2016-03-14 19:00:00-05:00    5\n",
       "2016-03-15 19:00:00-05:00    6\n",
       "2016-03-16 19:00:00-05:00    7\n",
       "2016-03-17 19:00:00-05:00    8\n",
       "2016-03-18 19:00:00-05:00    9\n",
       "Freq: D, dtype: int64"
      ]
     },
     "execution_count": 12,
     "metadata": {},
     "output_type": "execute_result"
    }
   ],
   "source": [
    "ts.tz_convert('US/Central')"
   ]
  },
  {
   "cell_type": "code",
   "execution_count": 13,
   "metadata": {},
   "outputs": [
    {
     "data": {
      "text/plain": [
       "DatetimeIndex(['2016-03-12 22:00:00-05:00', '2016-03-12 23:00:00-05:00',\n",
       "               '2016-03-13 00:00:00-05:00', '2016-03-13 01:00:00-05:00',\n",
       "               '2016-03-13 03:00:00-04:00', '2016-03-13 04:00:00-04:00',\n",
       "               '2016-03-13 05:00:00-04:00', '2016-03-13 06:00:00-04:00',\n",
       "               '2016-03-13 07:00:00-04:00', '2016-03-13 08:00:00-04:00',\n",
       "               '2016-03-13 09:00:00-04:00', '2016-03-13 10:00:00-04:00'],\n",
       "              dtype='datetime64[ns, US/Eastern]', freq='H')"
      ]
     },
     "execution_count": 13,
     "metadata": {},
     "output_type": "execute_result"
    }
   ],
   "source": [
    "pd.date_range('03-12-2016 22:00', periods = 12, freq = 'H', tz = 'US/Eastern')"
   ]
  },
  {
   "cell_type": "code",
   "execution_count": null,
   "metadata": {},
   "outputs": [],
   "source": [
    "# May autocorrect an error rather than giving you a non-existent time error\n",
    "pd.Timestamp('2016-03-13 02:00', tz = 'US/Eastern')"
   ]
  },
  {
   "cell_type": "code",
   "execution_count": null,
   "metadata": {
    "collapsed": true
   },
   "outputs": [],
   "source": []
  }
 ],
 "metadata": {
  "kernelspec": {
   "display_name": "Python 3",
   "language": "python",
   "name": "python3"
  },
  "language_info": {
   "codemirror_mode": {
    "name": "ipython",
    "version": 3
   },
   "file_extension": ".py",
   "mimetype": "text/x-python",
   "name": "python",
   "nbconvert_exporter": "python",
   "pygments_lexer": "ipython3",
   "version": "3.6.0"
  },
  "widgets": {
   "state": {},
   "version": "1.1.1"
  }
 },
 "nbformat": 4,
 "nbformat_minor": 1
}
